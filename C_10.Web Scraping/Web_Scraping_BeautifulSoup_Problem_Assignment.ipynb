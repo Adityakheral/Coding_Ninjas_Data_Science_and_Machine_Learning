{
 "cells": [
  {
   "cell_type": "markdown",
   "metadata": {},
   "source": [
    "## Practice Problem on Web Scraping - BeautifulSoup"
   ]
  },
  {
   "cell_type": "markdown",
   "metadata": {},
   "source": [
    "### Problem 1 : Print Body tag\n",
    "You are given the HTML content of a webpage, your task is to :   \n",
    "Print all the contents of the body tag(including body tag)  \n",
    "NOTE : You are provided the HTML content inside variable html"
   ]
  },
  {
   "cell_type": "code",
   "execution_count": 1,
   "metadata": {},
   "outputs": [],
   "source": [
    "html = '<!DOCTYPE html><html><head><title>Learning Beautiful Soup</title></head>\\\n",
    "<body><h1> About Us </h1><div class = \"first_div\"><p>Coding Ninjas Website</p>\\\n",
    "<a href=\"https://www.codingninjas.in/\">Link to Coding Ninjas Website</a>\\\n",
    "<ul><li>This</li><li>is</li><li>an</li><li>unordered</li><li>list.</li></ul>\\\n",
    "</div><p id = \"template_p\">This is a template paragraph tag</p>\\\n",
    "<a href = \"https://www.facebook.com/codingninjas/\">\\\n",
    "This is the link of our Facebook Page</a></body></html>'"
   ]
  },
  {
   "cell_type": "code",
   "execution_count": 5,
   "metadata": {},
   "outputs": [
    {
     "name": "stdout",
     "output_type": "stream",
     "text": [
      "<body><h1> About Us </h1><div class=\"first_div\"><p>Coding Ninjas Website</p><a href=\"https://www.codingninjas.in/\">Link to Coding Ninjas Website</a><ul><li>This</li><li>is</li><li>an</li><li>unordered</li><li>list.</li></ul></div><p id=\"template_p\">This is a template paragraph tag</p><a href=\"https://www.facebook.com/codingninjas/\">This is the link of our Facebook Page</a></body>\n"
     ]
    }
   ],
   "source": [
    "from bs4 import BeautifulSoup\n",
    "data = BeautifulSoup(html, 'html.parser')\n",
    "print(data.body)"
   ]
  },
  {
   "cell_type": "markdown",
   "metadata": {},
   "source": [
    "### Problem 2 : Attributes of div tag\n",
    "You are given the HTML content of a webpage, your task is to :  \n",
    "Print the name of all attributes of first div tag of the page  \n",
    "NOTE : You are provided the HTML content inside variable html  "
   ]
  },
  {
   "cell_type": "code",
   "execution_count": 7,
   "metadata": {},
   "outputs": [
    {
     "name": "stdout",
     "output_type": "stream",
     "text": [
      "class\n"
     ]
    }
   ],
   "source": [
    "from bs4 import BeautifulSoup\n",
    "data = BeautifulSoup(html, 'html.parser')\n",
    "attr = data.div.attrs\n",
    "for i in attr:\n",
    "    print(i)"
   ]
  },
  {
   "cell_type": "markdown",
   "metadata": {},
   "source": [
    "### Problem 3 : Strings of li\n",
    "You are given the HTML content of a webpage, your task is to :  \n",
    "Print the strings(only text without tag names) of all li tags separated by a space  \n",
    "NOTE : You are provided the HTML content inside variable html"
   ]
  },
  {
   "cell_type": "code",
   "execution_count": 11,
   "metadata": {},
   "outputs": [
    {
     "name": "stdout",
     "output_type": "stream",
     "text": [
      "This is an unordered list. "
     ]
    }
   ],
   "source": [
    "from bs4 import BeautifulSoup\n",
    "data = BeautifulSoup(html, 'html.parser')\n",
    "l = data.find_all('li')\n",
    "for i in l :\n",
    "    print(i.string,end=' ')"
   ]
  },
  {
   "cell_type": "markdown",
   "metadata": {},
   "source": [
    "### Problem 4 : href of A tag\n",
    "You are given the HTML content of a webpage, your task is to :    \n",
    "Print the href of all the <a> tags on the page in different lines    \n",
    "NOTE : You are provided the HTML content inside variable html  "
   ]
  },
  {
   "cell_type": "code",
   "execution_count": 23,
   "metadata": {},
   "outputs": [
    {
     "name": "stdout",
     "output_type": "stream",
     "text": [
      "https://www.codingninjas.in/\n",
      "https://www.facebook.com/codingninjas/\n"
     ]
    }
   ],
   "source": [
    "from bs4 import BeautifulSoup\n",
    "data = BeautifulSoup(html, 'html.parser')\n",
    "l = data.find_all('a')\n",
    "for i in l :\n",
    "    print(i.attrs['href'])"
   ]
  },
  {
   "cell_type": "markdown",
   "metadata": {},
   "source": [
    "### Problem 5 : Descendants and children\n",
    "You are given the HTML content of a webpage, your task is to :  \n",
    "Print the difference between the number of descendants and the number of children of the html tag  \n",
    "NOTE : You are provided the HTML content inside variable html  "
   ]
  },
  {
   "cell_type": "code",
   "execution_count": 28,
   "metadata": {},
   "outputs": [],
   "source": [
    "html = '<!DOCTYPE html><html><head><title>Navigate Parse Tree</title></head>\\\n",
    "<body><h1>This is your Assignment</h1><a href = \"https://www.google.com\">This is a link that will take you to Google</a>\\\n",
    "<ul><li><p> This question is given to test your knowledge of <b>Web Scraping</b></p>\\\n",
    "<p>Web scraping is a term used to describe the use of a program or algorithm to extract and process large amounts of data from the web.</p></li>\\\n",
    "<li id = \"li2\">This is an li tag given to you for scraping</li>\\\n",
    "<li>This li tag gives you the various ways to get data from a website\\\n",
    "<ol><li class = \"list_or\">Using API of the website</li><li>Scrape data using BeautifulSoup</li><li>Scrape data using Selenium</li>\\\n",
    "<li>Scrape data using Scrapy</li></ol></li>\\\n",
    "<li class = \"list_or\"><a href=\"https://www.crummy.com/software/BeautifulSoup/bs4/doc/\">\\\n",
    "Clicking on this takes you to the documentation of BeautifulSoup</a>\\\n",
    "<a href=\"https://selenium-python.readthedocs.io/\" id=\"anchor\">Clicking on this takes you to the documentation of Selenium</a>\\\n",
    "</li></ul></body></html>'"
   ]
  },
  {
   "cell_type": "code",
   "execution_count": 26,
   "metadata": {},
   "outputs": [
    {
     "name": "stdout",
     "output_type": "stream",
     "text": [
      "32\n"
     ]
    }
   ],
   "source": [
    "from bs4 import BeautifulSoup\n",
    "data = BeautifulSoup(html, 'html.parser')\n",
    "child = list(data.html.children)\n",
    "desc = list(data.html.descendants)\n",
    "print(len(desc)-len(child))"
   ]
  },
  {
   "cell_type": "markdown",
   "metadata": {},
   "source": [
    "### Problem 6 : Name of tags with ID\n",
    "You are given the HTML content of a webpage, your task is to :  \n",
    "Print the name of all the tags in different lines that have an id attribute.  \n",
    "NOTE : You are provided the HTML content inside variable html"
   ]
  },
  {
   "cell_type": "code",
   "execution_count": 40,
   "metadata": {},
   "outputs": [
    {
     "name": "stdout",
     "output_type": "stream",
     "text": [
      "li\n",
      "a\n"
     ]
    }
   ],
   "source": [
    "from bs4 import BeautifulSoup\n",
    "data = BeautifulSoup(html, 'html.parser')\n",
    "l = data.find_all(id=True)\n",
    "for i in l:\n",
    "    print(i.name)"
   ]
  },
  {
   "cell_type": "markdown",
   "metadata": {},
   "source": [
    "### Problem 7 : Next Sibling\n",
    "You are given the HTML content of a webpage, your task is to :  \n",
    "Print all content of the next siblings of the tag that have id as “li2”(in different lines)  \n",
    "NOTE : Content includes the complete html of tag  "
   ]
  },
  {
   "cell_type": "code",
   "execution_count": 57,
   "metadata": {},
   "outputs": [
    {
     "name": "stdout",
     "output_type": "stream",
     "text": [
      "<li>This li tag gives you the various ways to get data from a website<ol><li class=\"list_or\">Using API of the website</li><li>Scrape data using BeautifulSoup</li><li>Scrape data using Selenium</li><li>Scrape data using Scrapy</li></ol></li>\n",
      "<li class=\"list_or\"><a href=\"https://www.crummy.com/software/BeautifulSoup/bs4/doc/\">Clicking on this takes you to the documentation of BeautifulSoup</a><a href=\"https://selenium-python.readthedocs.io/\" id=\"anchor\">Clicking on this takes you to the documentation of Selenium</a></li>\n"
     ]
    }
   ],
   "source": [
    "from bs4 import BeautifulSoup\n",
    "data = BeautifulSoup(html, 'html.parser')\n",
    "l = data.find(id = \"li2\").next_siblings \n",
    "for i in list(l):\n",
    "    print(i)\n"
   ]
  },
  {
   "cell_type": "markdown",
   "metadata": {},
   "source": [
    "### Problem 8 : Parents of title\n",
    "You are given the HTML content of a webpage, your task is to :  \n",
    "Print content of all the parents of the title tag(linewise)  \n",
    "NOTE : Content includes the whole HTML of the tag  "
   ]
  },
  {
   "cell_type": "code",
   "execution_count": 96,
   "metadata": {},
   "outputs": [
    {
     "name": "stdout",
     "output_type": "stream",
     "text": [
      "<head><title>Navigate Parse Tree</title></head>\n",
      "<html><head><title>Navigate Parse Tree</title></head><body><h1>This is your Assignment</h1><a href=\"https://www.google.com\">This is a link that will take you to Google</a><ul><li><p> This question is given to test your knowledge of <b>Web Scraping</b></p><p>Web scraping is a term used to describe the use of a program or algorithm to extract and process large amounts of data from the web.</p></li><li id=\"li2\">This is an li tag given to you for scraping</li><li>This li tag gives you the various ways to get data from a website<ol><li class=\"list_or\">Using API of the website</li><li>Scrape data using BeautifulSoup</li><li>Scrape data using Selenium</li><li>Scrape data using Scrapy</li></ol></li><li class=\"list_or\"><a href=\"https://www.crummy.com/software/BeautifulSoup/bs4/doc/\">Clicking on this takes you to the documentation of BeautifulSoup</a><a href=\"https://selenium-python.readthedocs.io/\" id=\"anchor\">Clicking on this takes you to the documentation of Selenium</a></li></ul></body></html>\n",
      "<!DOCTYPE html>\n",
      "<html><head><title>Navigate Parse Tree</title></head><body><h1>This is your Assignment</h1><a href=\"https://www.google.com\">This is a link that will take you to Google</a><ul><li><p> This question is given to test your knowledge of <b>Web Scraping</b></p><p>Web scraping is a term used to describe the use of a program or algorithm to extract and process large amounts of data from the web.</p></li><li id=\"li2\">This is an li tag given to you for scraping</li><li>This li tag gives you the various ways to get data from a website<ol><li class=\"list_or\">Using API of the website</li><li>Scrape data using BeautifulSoup</li><li>Scrape data using Selenium</li><li>Scrape data using Scrapy</li></ol></li><li class=\"list_or\"><a href=\"https://www.crummy.com/software/BeautifulSoup/bs4/doc/\">Clicking on this takes you to the documentation of BeautifulSoup</a><a href=\"https://selenium-python.readthedocs.io/\" id=\"anchor\">Clicking on this takes you to the documentation of Selenium</a></li></ul></body></html>\n"
     ]
    }
   ],
   "source": [
    "from bs4 import BeautifulSoup\n",
    "data = BeautifulSoup(html, 'html.parser')\n",
    "l = data.title\n",
    "for parent in l.parents:\n",
    "    print(parent)"
   ]
  },
  {
   "cell_type": "markdown",
   "metadata": {},
   "source": [
    "### Problem 9 : Next Element\n",
    "You are given the HTML content of a webpage, your task is to :  \n",
    "Print the string which is present inside the isecond <a> tag using BeautifulSoup's next_element property  "
   ]
  },
  {
   "cell_type": "code",
   "execution_count": 68,
   "metadata": {},
   "outputs": [
    {
     "name": "stdout",
     "output_type": "stream",
     "text": [
      "Clicking on this takes you to the documentation of BeautifulSoup\n"
     ]
    }
   ],
   "source": [
    "from bs4 import BeautifulSoup\n",
    "data = BeautifulSoup(html, 'html.parser')\n",
    "second = data.find_all('a')[1]\n",
    "print(second.next_element)"
   ]
  },
  {
   "cell_type": "markdown",
   "metadata": {},
   "source": [
    "### Problem 10 : Book Names from First Page\n",
    "Print the title of all 20 books which are present on first page of this http://books.toscrape.com/ website."
   ]
  },
  {
   "cell_type": "code",
   "execution_count": 6,
   "metadata": {},
   "outputs": [
    {
     "name": "stdout",
     "output_type": "stream",
     "text": [
      "A Light in the Attic\n",
      "Tipping the Velvet\n",
      "Soumission\n",
      "Sharp Objects\n",
      "Sapiens: A Brief History of Humankind\n",
      "The Requiem Red\n",
      "The Dirty Little Secrets of Getting Your Dream Job\n",
      "The Coming Woman: A Novel Based on the Life of the Infamous Feminist, Victoria Woodhull\n",
      "The Boys in the Boat: Nine Americans and Their Epic Quest for Gold at the 1936 Berlin Olympics\n",
      "The Black Maria\n",
      "Starving Hearts (Triangular Trade Trilogy, #1)\n",
      "Shakespeare's Sonnets\n",
      "Set Me Free\n",
      "Scott Pilgrim's Precious Little Life (Scott Pilgrim #1)\n",
      "Rip it Up and Start Again\n",
      "Our Band Could Be Your Life: Scenes from the American Indie Underground, 1981-1991\n",
      "Olio\n",
      "Mesaerion: The Best Science Fiction Stories 1800-1849\n",
      "Libertarianism for Beginners\n",
      "It's Only the Himalayas\n"
     ]
    }
   ],
   "source": [
    "from bs4 import BeautifulSoup\n",
    "import requests\n",
    "response = requests.get('http://books.toscrape.com/')\n",
    "#response\n",
    "html_data = response.text\n",
    "data = BeautifulSoup(html_data, 'html.parser')\n",
    "#print(data.prettify())\n",
    "books=data.find_all(class_='product_pod')\n",
    "for i in books:\n",
    "    print(i.h3.a['title'])"
   ]
  },
  {
   "cell_type": "markdown",
   "metadata": {},
   "source": [
    "### Problem 11 : All Categories\n",
    "Print the name of all categories which are present this http://books.toscrape.com/ website."
   ]
  },
  {
   "cell_type": "code",
   "execution_count": 1,
   "metadata": {},
   "outputs": [
    {
     "name": "stdout",
     "output_type": "stream",
     "text": [
      "Travel\n",
      "Mystery\n",
      "Historical Fiction\n",
      "Sequential Art\n",
      "Classics\n",
      "Philosophy\n",
      "Romance\n",
      "Womens Fiction\n",
      "Fiction\n",
      "Childrens\n",
      "Religion\n",
      "Nonfiction\n",
      "Music\n",
      "Default\n",
      "Science Fiction\n",
      "Sports and Games\n",
      "Add a comment\n",
      "Fantasy\n",
      "New Adult\n",
      "Young Adult\n",
      "Science\n",
      "Poetry\n",
      "Paranormal\n",
      "Art\n",
      "Psychology\n",
      "Autobiography\n",
      "Parenting\n",
      "Adult Fiction\n",
      "Humor\n",
      "Horror\n",
      "History\n",
      "Food and Drink\n",
      "Christian Fiction\n",
      "Business\n",
      "Biography\n",
      "Thriller\n",
      "Contemporary\n",
      "Spirituality\n",
      "Academic\n",
      "Self Help\n",
      "Historical\n",
      "Christian\n",
      "Suspense\n",
      "Short Stories\n",
      "Novels\n",
      "Health\n",
      "Politics\n",
      "Cultural\n",
      "Erotica\n",
      "Crime\n"
     ]
    }
   ],
   "source": [
    "from bs4 import BeautifulSoup\n",
    "import requests\n",
    "response = requests.get('http://books.toscrape.com/')\n",
    "html_data = response.text\n",
    "data = BeautifulSoup(html_data, 'html.parser')\n",
    "cat = data.find(class_='side_categories')\n",
    "c=cat.find_all('a')\n",
    "for i in c:\n",
    "    if i.string.strip() != \"Books\":\n",
    "        print(i.string.strip())"
   ]
  },
  {
   "cell_type": "markdown",
   "metadata": {},
   "source": [
    "### Problem 12 : All Book Names\n",
    "Print the title of all books which are present on first 10 pages of this http://books.toscrape.com/ website."
   ]
  },
  {
   "cell_type": "code",
   "execution_count": null,
   "metadata": {},
   "outputs": [],
   "source": [
    "from bs4 import BeautifulSoup\n",
    "import requests"
   ]
  },
  {
   "cell_type": "code",
   "execution_count": 3,
   "metadata": {},
   "outputs": [],
   "source": [
    "all_urls = ['http://books.toscrape.com/catalogue/page-1.html']\n",
    "cur_url='http://books.toscrape.com/catalogue/page-1.html'\n",
    "base_url='http://books.toscrape.com/catalogue/'\n",
    "\n",
    "response = requests.get(cur_url)\n",
    "i=0\n",
    "while response.status_code==200:\n",
    "    data = BeautifulSoup(response.text, 'html.parser')\n",
    "    next_page = data.find(class_='next')\n",
    "    if i==9:\n",
    "        break\n",
    "    next_page_url = base_url+next_page.a['href']\n",
    "    #print(next_page_url)\n",
    "    all_urls.append(next_page_url)\n",
    "    cur_url = next_page_url\n",
    "    response = requests.get(cur_url)\n",
    "    i+=1"
   ]
  },
  {
   "cell_type": "code",
   "execution_count": 5,
   "metadata": {},
   "outputs": [
    {
     "name": "stdout",
     "output_type": "stream",
     "text": [
      "A Light in the Attic\n",
      "Tipping the Velvet\n",
      "Soumission\n",
      "Sharp Objects\n",
      "Sapiens: A Brief History of Humankind\n",
      "The Requiem Red\n",
      "The Dirty Little Secrets of Getting Your Dream Job\n",
      "The Coming Woman: A Novel Based on the Life of the Infamous Feminist, Victoria Woodhull\n",
      "The Boys in the Boat: Nine Americans and Their Epic Quest for Gold at the 1936 Berlin Olympics\n",
      "The Black Maria\n",
      "Starving Hearts (Triangular Trade Trilogy, #1)\n",
      "Shakespeare's Sonnets\n",
      "Set Me Free\n",
      "Scott Pilgrim's Precious Little Life (Scott Pilgrim #1)\n",
      "Rip it Up and Start Again\n",
      "Our Band Could Be Your Life: Scenes from the American Indie Underground, 1981-1991\n",
      "Olio\n",
      "Mesaerion: The Best Science Fiction Stories 1800-1849\n",
      "Libertarianism for Beginners\n",
      "It's Only the Himalayas\n",
      "In Her Wake\n",
      "How Music Works\n",
      "Foolproof Preserving: A Guide to Small Batch Jams, Jellies, Pickles, Condiments, and More: A Foolproof Guide to Making Small Batch Jams, Jellies, Pickles, Condiments, and More\n",
      "Chase Me (Paris Nights #2)\n",
      "Black Dust\n",
      "Birdsong: A Story in Pictures\n",
      "America's Cradle of Quarterbacks: Western Pennsylvania's Football Factory from Johnny Unitas to Joe Montana\n",
      "Aladdin and His Wonderful Lamp\n",
      "Worlds Elsewhere: Journeys Around Shakespeareâs Globe\n",
      "Wall and Piece\n",
      "The Four Agreements: A Practical Guide to Personal Freedom\n",
      "The Five Love Languages: How to Express Heartfelt Commitment to Your Mate\n",
      "The Elephant Tree\n",
      "The Bear and the Piano\n",
      "Sophie's World\n",
      "Penny Maybe\n",
      "Maude (1883-1993):She Grew Up with the country\n",
      "In a Dark, Dark Wood\n",
      "Behind Closed Doors\n",
      "You can't bury them all: Poems\n",
      "Slow States of Collapse: Poems\n",
      "Reasons to Stay Alive\n",
      "Private Paris (Private #10)\n",
      "#HigherSelfie: Wake Up Your Life. Free Your Soul. Find Your Tribe.\n",
      "Without Borders (Wanderlove #1)\n",
      "When We Collided\n",
      "We Love You, Charlie Freeman\n",
      "Untitled Collection: Sabbath Poems 2014\n",
      "Unseen City: The Majesty of Pigeons, the Discreet Charm of Snails & Other Wonders of the Urban Wilderness\n",
      "Unicorn Tracks\n",
      "Unbound: How Eight Technologies Made Us Human, Transformed Society, and Brought Our World to the Brink\n",
      "Tsubasa: WoRLD CHRoNiCLE 2 (Tsubasa WoRLD CHRoNiCLE #2)\n",
      "Throwing Rocks at the Google Bus: How Growth Became the Enemy of Prosperity\n",
      "This One Summer\n",
      "Thirst\n",
      "The Torch Is Passed: A Harding Family Story\n",
      "The Secret of Dreadwillow Carse\n",
      "The Pioneer Woman Cooks: Dinnertime: Comfort Classics, Freezer Food, 16-Minute Meals, and Other Delicious Ways to Solve Supper!\n",
      "The Past Never Ends\n",
      "The Natural History of Us (The Fine Art of Pretending #2)\n",
      "The Nameless City (The Nameless City #1)\n",
      "The Murder That Never Was (Forensic Instincts #5)\n",
      "The Most Perfect Thing: Inside (and Outside) a Bird's Egg\n",
      "The Mindfulness and Acceptance Workbook for Anxiety: A Guide to Breaking Free from Anxiety, Phobias, and Worry Using Acceptance and Commitment Therapy\n",
      "The Life-Changing Magic of Tidying Up: The Japanese Art of Decluttering and Organizing\n",
      "The Inefficiency Assassin: Time Management Tactics for Working Smarter, Not Longer\n",
      "The Gutsy Girl: Escapades for Your Life of Epic Adventure\n",
      "The Electric Pencil: Drawings from Inside State Hospital No. 3\n",
      "The Death of Humanity: and the Case for Life\n",
      "The Bulletproof Diet: Lose up to a Pound a Day, Reclaim Energy and Focus, Upgrade Your Life\n",
      "The Art Forger\n",
      "The Age of Genius: The Seventeenth Century and the Birth of the Modern Mind\n",
      "The Activist's Tao Te Ching: Ancient Advice for a Modern Revolution\n",
      "Spark Joy: An Illustrated Master Class on the Art of Organizing and Tidying Up\n",
      "Soul Reader\n",
      "Security\n",
      "Saga, Volume 6 (Saga (Collected Editions) #6)\n",
      "Saga, Volume 5 (Saga (Collected Editions) #5)\n",
      "Reskilling America: Learning to Labor in the Twenty-First Century\n",
      "Rat Queens, Vol. 3: Demons (Rat Queens (Collected Editions) #11-15)\n",
      "Princess Jellyfish 2-in-1 Omnibus, Vol. 01 (Princess Jellyfish 2-in-1 Omnibus #1)\n",
      "Princess Between Worlds (Wide-Awake Princess #5)\n",
      "Pop Gun War, Volume 1: Gift\n",
      "Political Suicide: Missteps, Peccadilloes, Bad Calls, Backroom Hijinx, Sordid Pasts, Rotten Breaks, and Just Plain Dumb Mistakes in the Annals of American Politics\n",
      "Patience\n",
      "Outcast, Vol. 1: A Darkness Surrounds Him (Outcast #1)\n",
      "orange: The Complete Collection 1 (orange: The Complete Collection #1)\n",
      "Online Marketing for Busy Authors: A Step-By-Step Guide\n",
      "On a Midnight Clear\n",
      "Obsidian (Lux #1)\n",
      "My Paris Kitchen: Recipes and Stories\n",
      "Masks and Shadows\n",
      "Mama Tried: Traditional Italian Cooking for the Screwed, Crude, Vegan, and Tattooed\n",
      "Lumberjanes, Vol. 2: Friendship to the Max (Lumberjanes #5-8)\n",
      "Lumberjanes, Vol. 1: Beware the Kitten Holy (Lumberjanes #1-4)\n",
      "Lumberjanes Vol. 3: A Terrible Plan (Lumberjanes #9-12)\n",
      "Layered: Baking, Building, and Styling Spectacular Cakes\n",
      "Judo: Seven Steps to Black Belt (an Introductory Guide for Beginners)\n",
      "Join\n",
      "In the Country We Love: My Family Divided\n",
      "Immunity: How Elie Metchnikoff Changed the Course of Modern Medicine\n",
      "I Hate Fairyland, Vol. 1: Madly Ever After (I Hate Fairyland (Compilations) #1-5)\n",
      "I am a Hero Omnibus Volume 1\n",
      "How to Be Miserable: 40 Strategies You Already Use\n",
      "Her Backup Boyfriend (The Sorensen Family #1)\n",
      "Giant Days, Vol. 2 (Giant Days #5-8)\n",
      "Forever and Forever: The Courtship of Henry Longfellow and Fanny Appleton\n",
      "First and First (Five Boroughs #3)\n",
      "Fifty Shades Darker (Fifty Shades #2)\n",
      "Everydata: The Misinformation Hidden in the Little Data You Consume Every Day\n",
      "Don't Be a Jerk: And Other Practical Advice from Dogen, Japan's Greatest Zen Master\n",
      "Danganronpa Volume 1\n",
      "Crown of Midnight (Throne of Glass #2)\n",
      "Codename Baboushka, Volume 1: The Conclave of Death\n",
      "Camp Midnight\n",
      "Call the Nurse: True Stories of a Country Nurse on a Scottish Isle\n",
      "Burning\n",
      "Bossypants\n",
      "Bitch Planet, Vol. 1: Extraordinary Machine (Bitch Planet (Collected Editions))\n",
      "Avatar: The Last Airbender: Smoke and Shadow, Part 3 (Smoke and Shadow #3)\n",
      "Algorithms to Live By: The Computer Science of Human Decisions\n",
      "A World of Flavor: Your Gluten Free Passport\n",
      "A Piece of Sky, a Grain of Rice: A Memoir in Four Meditations\n",
      "A Murder in Time\n",
      "A Flight of Arrows (The Pathfinders #2)\n",
      "A Fierce and Subtle Poison\n",
      "A Court of Thorns and Roses (A Court of Thorns and Roses #1)\n",
      "(Un)Qualified: How God Uses Broken People to Do Big Things\n",
      "You Are What You Love: The Spiritual Power of Habit\n",
      "William Shakespeare's Star Wars: Verily, A New Hope (William Shakespeare's Star Wars #4)\n",
      "Tuesday Nights in 1980\n",
      "Tracing Numbers on a Train\n",
      "Throne of Glass (Throne of Glass #1)\n",
      "Thomas Jefferson and the Tripoli Pirates: The Forgotten War That Changed American History\n",
      "Thirteen Reasons Why\n",
      "The White Cat and the Monk: A Retelling of the Poem âPangur BÃ¡nâ\n",
      "The Wedding Dress\n",
      "The Vacationers\n",
      "The Third Wave: An Entrepreneurâs Vision of the Future\n",
      "The Stranger\n",
      "The Shadow Hero (The Shadow Hero)\n",
      "The Secret (The Secret #1)\n",
      "The Regional Office Is Under Attack!\n",
      "The Psychopath Test: A Journey Through the Madness Industry\n",
      "The Project\n",
      "The Power of Now: A Guide to Spiritual Enlightenment\n",
      "The Omnivore's Dilemma: A Natural History of Four Meals\n",
      "The Nerdy Nummies Cookbook: Sweet Treats for the Geek in All of Us\n",
      "The Murder of Roger Ackroyd (Hercule Poirot #4)\n",
      "The Mistake (Off-Campus #2)\n",
      "The Matchmaker's Playbook (Wingmen Inc. #1)\n",
      "The Love and Lemons Cookbook: An Apple-to-Zucchini Celebration of Impromptu Cooking\n",
      "The Long Shadow of Small Ghosts: Murder and Memory in an American City\n",
      "The Kite Runner\n",
      "The House by the Lake\n",
      "The Glittering Court (The Glittering Court #1)\n",
      "The Girl on the Train\n",
      "The Genius of Birds\n",
      "The Emerald Mystery\n",
      "The Cookies & Cups Cookbook: 125+ sweet & savory recipes reminding you to Always Eat Dessert First\n",
      "The Bridge to Consciousness: I'm Writing the Bridge Between Science and Our Old and New Beliefs.\n",
      "The Artist's Way: A Spiritual Path to Higher Creativity\n",
      "The Art of War\n",
      "The Argonauts\n",
      "The 10% Entrepreneur: Live Your Startup Dream Without Quitting Your Day Job\n",
      "Suddenly in Love (Lake Haven #1)\n",
      "Something More Than This\n",
      "Soft Apocalypse\n",
      "So You've Been Publicly Shamed\n",
      "Shoe Dog: A Memoir by the Creator of NIKE\n",
      "Shobu Samurai, Project Aryoku (#3)\n",
      "Secrets and Lace (Fatal Hearts #1)\n",
      "Scarlett Epstein Hates It Here\n",
      "Romero and Juliet: A Tragic Tale of Love and Zombies\n",
      "Redeeming Love\n",
      "Poses for Artists Volume 1 - Dynamic and Sitting Poses: An Essential Reference for Figure Drawing and the Human Form\n",
      "Poems That Make Grown Women Cry\n",
      "Nightingale, Sing\n",
      "Night Sky with Exit Wounds\n",
      "Mrs. Houdini\n"
     ]
    },
    {
     "name": "stdout",
     "output_type": "stream",
     "text": [
      "Modern Romance\n",
      "Miss Peregrineâs Home for Peculiar Children (Miss Peregrineâs Peculiar Children #1)\n",
      "Louisa: The Extraordinary Life of Mrs. Adams\n",
      "Little Red\n",
      "Library of Souls (Miss Peregrineâs Peculiar Children #3)\n",
      "Large Print Heart of the Pride\n",
      "I Had a Nice Time And Other Lies...: How to find love & sh*t like that\n",
      "Hollow City (Miss Peregrineâs Peculiar Children #2)\n",
      "Grumbles\n",
      "Full Moon over Noahâs Ark: An Odyssey to Mount Ararat and Beyond\n",
      "Frostbite (Vampire Academy #2)\n",
      "Follow You Home\n",
      "First Steps for New Christians (Print Edition)\n",
      "Finders Keepers (Bill Hodges Trilogy #2)\n",
      "Fables, Vol. 1: Legends in Exile (Fables #1)\n",
      "Eureka Trivia 6.0\n",
      "Drive: The Surprising Truth About What Motivates Us\n",
      "Done Rubbed Out (Reightman & Bailey #1)\n",
      "Doing It Over (Most Likely To #1)\n",
      "Deliciously Ella Every Day: Quick and Easy Recipes for Gluten-Free Snacks, Packed Lunches, and Simple Meals\n"
     ]
    }
   ],
   "source": [
    "for i in all_urls:\n",
    "    response = requests.get(i)\n",
    "    html_data = response.text\n",
    "    data = BeautifulSoup(html_data, 'html.parser')\n",
    "    books=data.find_all(class_='product_pod')\n",
    "    for i in books:\n",
    "        print(i.h3.a['title'])"
   ]
  },
  {
   "cell_type": "markdown",
   "metadata": {},
   "source": [
    "### Problem 13 : Book Details\n",
    "Find and print the details of all books which are present on first 2 pages of this  http://books.toscrape.com/ website.    \n",
    "All details include - Title of the book, book page url, Price (in float, without any currency or extra symbol), and quantity in stock (in integer). Save all the details in a dataframe and print in the required format.  \n",
    "Note: Remove the Trailing Zeros from price of book."
   ]
  },
  {
   "cell_type": "code",
   "execution_count": 12,
   "metadata": {},
   "outputs": [
    {
     "name": "stdout",
     "output_type": "stream",
     "text": [
      "A Light in the Attic http://books.toscrape.com/catalogue/a-light-in-the-attic_1000/index.html 51.77 22\n",
      "Tipping the Velvet http://books.toscrape.com/catalogue/tipping-the-velvet_999/index.html 53.74 20\n",
      "Soumission http://books.toscrape.com/catalogue/soumission_998/index.html 50.1 20\n",
      "Sharp Objects http://books.toscrape.com/catalogue/sharp-objects_997/index.html 47.82 20\n",
      "Sapiens: A Brief History of Humankind http://books.toscrape.com/catalogue/sapiens-a-brief-history-of-humankind_996/index.html 54.23 20\n",
      "The Requiem Red http://books.toscrape.com/catalogue/the-requiem-red_995/index.html 22.65 19\n",
      "The Dirty Little Secrets of Getting Your Dream Job http://books.toscrape.com/catalogue/the-dirty-little-secrets-of-getting-your-dream-job_994/index.html 33.34 19\n",
      "The Coming Woman: A Novel Based on the Life of the Infamous Feminist, Victoria Woodhull http://books.toscrape.com/catalogue/the-coming-woman-a-novel-based-on-the-life-of-the-infamous-feminist-victoria-woodhull_993/index.html 17.93 19\n",
      "The Boys in the Boat: Nine Americans and Their Epic Quest for Gold at the 1936 Berlin Olympics http://books.toscrape.com/catalogue/the-boys-in-the-boat-nine-americans-and-their-epic-quest-for-gold-at-the-1936-berlin-olympics_992/index.html 22.6 19\n",
      "The Black Maria http://books.toscrape.com/catalogue/the-black-maria_991/index.html 52.15 19\n",
      "Starving Hearts (Triangular Trade Trilogy, #1) http://books.toscrape.com/catalogue/starving-hearts-triangular-trade-trilogy-1_990/index.html 13.99 19\n",
      "Shakespeare's Sonnets http://books.toscrape.com/catalogue/shakespeares-sonnets_989/index.html 20.66 19\n",
      "Set Me Free http://books.toscrape.com/catalogue/set-me-free_988/index.html 17.46 19\n",
      "Scott Pilgrim's Precious Little Life (Scott Pilgrim #1) http://books.toscrape.com/catalogue/scott-pilgrims-precious-little-life-scott-pilgrim-1_987/index.html 52.29 19\n",
      "Rip it Up and Start Again http://books.toscrape.com/catalogue/rip-it-up-and-start-again_986/index.html 35.02 19\n",
      "Our Band Could Be Your Life: Scenes from the American Indie Underground, 1981-1991 http://books.toscrape.com/catalogue/our-band-could-be-your-life-scenes-from-the-american-indie-underground-1981-1991_985/index.html 57.25 19\n",
      "Olio http://books.toscrape.com/catalogue/olio_984/index.html 23.88 19\n",
      "Mesaerion: The Best Science Fiction Stories 1800-1849 http://books.toscrape.com/catalogue/mesaerion-the-best-science-fiction-stories-1800-1849_983/index.html 37.59 19\n",
      "Libertarianism for Beginners http://books.toscrape.com/catalogue/libertarianism-for-beginners_982/index.html 51.33 19\n",
      "It's Only the Himalayas http://books.toscrape.com/catalogue/its-only-the-himalayas_981/index.html 45.17 19\n",
      "In Her Wake http://books.toscrape.com/catalogue/in-her-wake_980/index.html 12.84 19\n",
      "How Music Works http://books.toscrape.com/catalogue/how-music-works_979/index.html 37.32 19\n",
      "Foolproof Preserving: A Guide to Small Batch Jams, Jellies, Pickles, Condiments, and More: A Foolproof Guide to Making Small Batch Jams, Jellies, Pickles, Condiments, and More http://books.toscrape.com/catalogue/foolproof-preserving-a-guide-to-small-batch-jams-jellies-pickles-condiments-and-more-a-foolproof-guide-to-making-small-batch-jams-jellies-pickles-condiments-and-more_978/index.html 30.52 19\n",
      "Chase Me (Paris Nights #2) http://books.toscrape.com/catalogue/chase-me-paris-nights-2_977/index.html 25.27 19\n",
      "Black Dust http://books.toscrape.com/catalogue/black-dust_976/index.html 34.53 19\n",
      "Birdsong: A Story in Pictures http://books.toscrape.com/catalogue/birdsong-a-story-in-pictures_975/index.html 54.64 19\n",
      "America's Cradle of Quarterbacks: Western Pennsylvania's Football Factory from Johnny Unitas to Joe Montana http://books.toscrape.com/catalogue/americas-cradle-of-quarterbacks-western-pennsylvanias-football-factory-from-johnny-unitas-to-joe-montana_974/index.html 22.5 19\n",
      "Aladdin and His Wonderful Lamp http://books.toscrape.com/catalogue/aladdin-and-his-wonderful-lamp_973/index.html 53.13 19\n",
      "Worlds Elsewhere: Journeys Around Shakespeareâs Globe http://books.toscrape.com/catalogue/worlds-elsewhere-journeys-around-shakespeares-globe_972/index.html 40.3 18\n",
      "Wall and Piece http://books.toscrape.com/catalogue/wall-and-piece_971/index.html 44.18 18\n",
      "The Four Agreements: A Practical Guide to Personal Freedom http://books.toscrape.com/catalogue/the-four-agreements-a-practical-guide-to-personal-freedom_970/index.html 17.66 18\n",
      "The Five Love Languages: How to Express Heartfelt Commitment to Your Mate http://books.toscrape.com/catalogue/the-five-love-languages-how-to-express-heartfelt-commitment-to-your-mate_969/index.html 31.05 18\n",
      "The Elephant Tree http://books.toscrape.com/catalogue/the-elephant-tree_968/index.html 23.82 18\n",
      "The Bear and the Piano http://books.toscrape.com/catalogue/the-bear-and-the-piano_967/index.html 36.89 18\n",
      "Sophie's World http://books.toscrape.com/catalogue/sophies-world_966/index.html 15.94 18\n",
      "Penny Maybe http://books.toscrape.com/catalogue/penny-maybe_965/index.html 33.29 18\n",
      "Maude (1883-1993):She Grew Up with the country http://books.toscrape.com/catalogue/maude-1883-1993she-grew-up-with-the-country_964/index.html 18.02 18\n",
      "In a Dark, Dark Wood http://books.toscrape.com/catalogue/in-a-dark-dark-wood_963/index.html 19.63 18\n",
      "Behind Closed Doors http://books.toscrape.com/catalogue/behind-closed-doors_962/index.html 52.22 18\n",
      "You can't bury them all: Poems http://books.toscrape.com/catalogue/you-cant-bury-them-all-poems_961/index.html 33.63 17\n"
     ]
    }
   ],
   "source": [
    "from bs4 import BeautifulSoup\n",
    "import pandas as pd\n",
    "import requests\n",
    "import re\n",
    "\n",
    "allPages = ['http://books.toscrape.com/catalogue/page-1.html','http://books.toscrape.com/catalogue/page-2.html']\n",
    "column_names = ['Title', 'Link', 'Price', 'Quantity in Stock']\n",
    "base_url = 'http://books.toscrape.com/catalogue/'\n",
    "\n",
    "allBooks=[]\n",
    "for i in allPages:\n",
    "    response = requests.get(i)\n",
    "    data = BeautifulSoup(response.text, 'html.parser')\n",
    "    book = data.find_all(class_='product_pod')\n",
    "    for i in book:\n",
    "        b_url = base_url + i.h3.a['href']\n",
    "        allBooks.append(b_url)\n",
    "\n",
    "        \n",
    "Book_details=[]\n",
    "for i in allBooks:\n",
    "    response = requests.get(i)\n",
    "    data = BeautifulSoup(response.text, 'html.parser')\n",
    "    title = data.h1.string\n",
    "    price = data.find(class_='price_color').string\n",
    "    qty = data.find(class_='instock availability')\n",
    "    qty = qty.contents[-1].strip()\n",
    "    qty = int(re.search('\\d+',qty).group())\n",
    "    price = float(re.search('[\\d.]+',price).group())\n",
    "    Book_details.append([title, i, price, qty])\n",
    "    \n",
    "#for i in Book_details:\n",
    "#print(*i)\n",
    "df = pd.DataFrame(Book_details,columns=column_names)\n",
    "for i in range(len(df)):\n",
    "    print(df['Title'][i],df['Link'][i],df['Price'][i],df['Quantity in Stock'][i])\n",
    "    \n",
    "    \n"
   ]
  },
  {
   "cell_type": "code",
   "execution_count": 11,
   "metadata": {},
   "outputs": [
    {
     "name": "stdout",
     "output_type": "stream",
     "text": [
      "A Light in the Attic http://books.toscrape.com/catalogue/a-light-in-the-attic_1000/index.html 51.77 22 \n",
      "Tipping the Velvet http://books.toscrape.com/catalogue/tipping-the-velvet_999/index.html 53.74 20 \n",
      "Soumission http://books.toscrape.com/catalogue/soumission_998/index.html 50.1 20 \n",
      "Sharp Objects http://books.toscrape.com/catalogue/sharp-objects_997/index.html 47.82 20 \n",
      "Sapiens: A Brief History of Humankind http://books.toscrape.com/catalogue/sapiens-a-brief-history-of-humankind_996/index.html 54.23 20 \n",
      "The Requiem Red http://books.toscrape.com/catalogue/the-requiem-red_995/index.html 22.65 19 \n",
      "The Dirty Little Secrets of Getting Your Dream Job http://books.toscrape.com/catalogue/the-dirty-little-secrets-of-getting-your-dream-job_994/index.html 33.34 19 \n",
      "The Coming Woman: A Novel Based on the Life of the Infamous Feminist, Victoria Woodhull http://books.toscrape.com/catalogue/the-coming-woman-a-novel-based-on-the-life-of-the-infamous-feminist-victoria-woodhull_993/index.html 17.93 19 \n",
      "The Boys in the Boat: Nine Americans and Their Epic Quest for Gold at the 1936 Berlin Olympics http://books.toscrape.com/catalogue/the-boys-in-the-boat-nine-americans-and-their-epic-quest-for-gold-at-the-1936-berlin-olympics_992/index.html 22.6 19 \n",
      "The Black Maria http://books.toscrape.com/catalogue/the-black-maria_991/index.html 52.15 19 \n",
      "Starving Hearts (Triangular Trade Trilogy, #1) http://books.toscrape.com/catalogue/starving-hearts-triangular-trade-trilogy-1_990/index.html 13.99 19 \n",
      "Shakespeare's Sonnets http://books.toscrape.com/catalogue/shakespeares-sonnets_989/index.html 20.66 19 \n",
      "Set Me Free http://books.toscrape.com/catalogue/set-me-free_988/index.html 17.46 19 \n",
      "Scott Pilgrim's Precious Little Life (Scott Pilgrim #1) http://books.toscrape.com/catalogue/scott-pilgrims-precious-little-life-scott-pilgrim-1_987/index.html 52.29 19 \n",
      "Rip it Up and Start Again http://books.toscrape.com/catalogue/rip-it-up-and-start-again_986/index.html 35.02 19 \n",
      "Our Band Could Be Your Life: Scenes from the American Indie Underground, 1981-1991 http://books.toscrape.com/catalogue/our-band-could-be-your-life-scenes-from-the-american-indie-underground-1981-1991_985/index.html 57.25 19 \n",
      "Olio http://books.toscrape.com/catalogue/olio_984/index.html 23.88 19 \n",
      "Mesaerion: The Best Science Fiction Stories 1800-1849 http://books.toscrape.com/catalogue/mesaerion-the-best-science-fiction-stories-1800-1849_983/index.html 37.59 19 \n",
      "Libertarianism for Beginners http://books.toscrape.com/catalogue/libertarianism-for-beginners_982/index.html 51.33 19 \n",
      "It's Only the Himalayas http://books.toscrape.com/catalogue/its-only-the-himalayas_981/index.html 45.17 19 \n",
      "In Her Wake http://books.toscrape.com/catalogue/in-her-wake_980/index.html 12.84 19 \n",
      "How Music Works http://books.toscrape.com/catalogue/how-music-works_979/index.html 37.32 19 \n",
      "Foolproof Preserving: A Guide to Small Batch Jams, Jellies, Pickles, Condiments, and More: A Foolproof Guide to Making Small Batch Jams, Jellies, Pickles, Condiments, and More http://books.toscrape.com/catalogue/foolproof-preserving-a-guide-to-small-batch-jams-jellies-pickles-condiments-and-more-a-foolproof-guide-to-making-small-batch-jams-jellies-pickles-condiments-and-more_978/index.html 30.52 19 \n",
      "Chase Me (Paris Nights #2) http://books.toscrape.com/catalogue/chase-me-paris-nights-2_977/index.html 25.27 19 \n",
      "Black Dust http://books.toscrape.com/catalogue/black-dust_976/index.html 34.53 19 \n",
      "Birdsong: A Story in Pictures http://books.toscrape.com/catalogue/birdsong-a-story-in-pictures_975/index.html 54.64 19 \n",
      "America's Cradle of Quarterbacks: Western Pennsylvania's Football Factory from Johnny Unitas to Joe Montana http://books.toscrape.com/catalogue/americas-cradle-of-quarterbacks-western-pennsylvanias-football-factory-from-johnny-unitas-to-joe-montana_974/index.html 22.5 19 \n",
      "Aladdin and His Wonderful Lamp http://books.toscrape.com/catalogue/aladdin-and-his-wonderful-lamp_973/index.html 53.13 19 \n",
      "Worlds Elsewhere: Journeys Around Shakespeareâs Globe http://books.toscrape.com/catalogue/worlds-elsewhere-journeys-around-shakespeares-globe_972/index.html 40.3 18 \n",
      "Wall and Piece http://books.toscrape.com/catalogue/wall-and-piece_971/index.html 44.18 18 \n",
      "The Four Agreements: A Practical Guide to Personal Freedom http://books.toscrape.com/catalogue/the-four-agreements-a-practical-guide-to-personal-freedom_970/index.html 17.66 18 \n",
      "The Five Love Languages: How to Express Heartfelt Commitment to Your Mate http://books.toscrape.com/catalogue/the-five-love-languages-how-to-express-heartfelt-commitment-to-your-mate_969/index.html 31.05 18 \n",
      "The Elephant Tree http://books.toscrape.com/catalogue/the-elephant-tree_968/index.html 23.82 18 \n",
      "The Bear and the Piano http://books.toscrape.com/catalogue/the-bear-and-the-piano_967/index.html 36.89 18 \n",
      "Sophie's World http://books.toscrape.com/catalogue/sophies-world_966/index.html 15.94 18 \n",
      "Penny Maybe http://books.toscrape.com/catalogue/penny-maybe_965/index.html 33.29 18 \n",
      "Maude (1883-1993):She Grew Up with the country http://books.toscrape.com/catalogue/maude-1883-1993she-grew-up-with-the-country_964/index.html 18.02 18 \n",
      "In a Dark, Dark Wood http://books.toscrape.com/catalogue/in-a-dark-dark-wood_963/index.html 19.63 18 \n",
      "Behind Closed Doors http://books.toscrape.com/catalogue/behind-closed-doors_962/index.html 52.22 18 \n",
      "You can't bury them all: Poems http://books.toscrape.com/catalogue/you-cant-bury-them-all-poems_961/index.html 33.63 17 \n"
     ]
    }
   ],
   "source": [
    "import requests\n",
    "\n",
    "from bs4 import BeautifulSoup\n",
    "\n",
    "import pandas as pd\n",
    "\n",
    "allPages = ['http://books.toscrape.com/catalogue/page-1.html',\n",
    "            'http://books.toscrape.com/catalogue/page-2.html']\n",
    "\n",
    "column_names = ['Title', 'Link', 'Price', 'Quantity in Stock']\n",
    "\n",
    "\n",
    "\n",
    "base_url=\"http://books.toscrape.com/catalogue/\"\n",
    "book_webpages=[]\n",
    "\n",
    "\n",
    "for i in allPages:\n",
    "    response=requests.get(i)\n",
    "    data=BeautifulSoup(response.text,\"html.parser\")\n",
    "    \n",
    "    for j in data.find_all(class_=\"product_pod\") :\n",
    "        book_webpages.append(base_url+j.h3.a[\"href\"])\n",
    "# print(book_webpages)\n",
    "Title=[]\n",
    "Link=[]\n",
    "Price=[]\n",
    "Quantity=[]\n",
    " \n",
    "for link in book_webpages:\n",
    "    r=requests.get(link)\n",
    "    data=BeautifulSoup(r.text,\"html.parser\")\n",
    "    \n",
    "    tag=data.find(class_=\"col-sm-6 product_main\")\n",
    "    \n",
    "    Title.append(tag.h1.string.strip())\n",
    "    Link.append(link)\n",
    "    string=tag.p.string.strip()\n",
    "    Price.append(float(string[2:]))\n",
    "    l=list(tag.find(class_=\"instock availability\").strings)\n",
    "    s=l[1].strip()\n",
    "    Quantity.append(int(s[10:(len(s)-11)]))\n",
    "\n",
    "df=pd.DataFrame({\"title\":Title,\"link\":Link,\"price\":Price,\"quantity\":Quantity})\n",
    "# print(df)\n",
    "for row in range(len(df.title)) :\n",
    "    ans=df.iloc[row,:].values\n",
    "    for i in ans:\n",
    "        print(i,end=\" \")\n",
    "    print()\n"
   ]
  },
  {
   "cell_type": "code",
   "execution_count": null,
   "metadata": {},
   "outputs": [],
   "source": []
  },
  {
   "cell_type": "markdown",
   "metadata": {},
   "source": [
    "## Assignment"
   ]
  },
  {
   "cell_type": "markdown",
   "metadata": {},
   "source": [
    "### Problem 1 : Print the data of first 3 movies\n",
    "From this https://www.imdb.com/search/title/?release_date=2018&sort=num_votes,desc&page=1&ref_=adv_nxt link,  \n",
    "Find and print the name and genre of the first 3 titles"
   ]
  },
  {
   "cell_type": "code",
   "execution_count": 26,
   "metadata": {},
   "outputs": [
    {
     "name": "stdout",
     "output_type": "stream",
     "text": [
      "Avengers: Infinity War ; Action, Adventure, Sci-Fi\n",
      "Black Panther ; Action, Adventure, Sci-Fi\n",
      "Deadpool 2 ; Action, Adventure, Comedy\n"
     ]
    }
   ],
   "source": [
    "from bs4 import BeautifulSoup\n",
    "import requests\n",
    "response = requests.get('https://www.imdb.com/search/title/?release_date=2018&sort=num_votes,desc&page=1&ref_=adv_nxt')\n",
    "data = BeautifulSoup(response.text,\"html.parser\")\n",
    "title = data.find_all(class_='lister-item-header')[:3]\n",
    "genre = data.find_all(class_='genre')[:3]\n",
    "for i in range(len(e)):\n",
    "    print(title[i].find('a').string+' ;',end=' ')\n",
    "    print(genre[i].string.strip())"
   ]
  },
  {
   "cell_type": "markdown",
   "metadata": {},
   "source": [
    "### Problem 2 : titles with most votes\n",
    "Link to use https://www.imdb.com/search/title/?release_date=2018&sort=num_votes,desc&page=1&ref_=adv_nxt  \n",
    "Print the names of movies with highest number of votes from year 2010 to 2014  \n",
    "Note : Print the titles line wise starting from year 2010  "
   ]
  },
  {
   "cell_type": "code",
   "execution_count": 6,
   "metadata": {},
   "outputs": [
    {
     "name": "stdout",
     "output_type": "stream",
     "text": [
      "Inception\n",
      "Game of Thrones\n",
      "The Dark Knight Rises\n",
      "The Wolf of Wall Street\n",
      "Interstellar\n"
     ]
    }
   ],
   "source": [
    "from bs4 import BeautifulSoup\n",
    "import requests\n",
    "urls = ['https://www.imdb.com/search/title/?release_date=2010-01-01,2010-12-31&sort=num_votes,desc&ref_=adv_prv', 'https://www.imdb.com/search/title/?release_date=2011-01-01,2011-12-31&sort=num_votes,desc&ref_=adv_prv',\n",
    "       'https://www.imdb.com/search/title/?release_date=2012-01-01,2012-12-31&sort=num_votes,desc&ref_=adv_prv', 'https://www.imdb.com/search/title/?release_date=2013-01-01,2013-12-31&sort=num_votes,desc&ref_=adv_prv',\n",
    "       'https://www.imdb.com/search/title/?release_date=2014-01-01,2014-12-31&sort=num_votes,desc&ref_=adv_prv']\n",
    "for i in urls:\n",
    "    res = requests.get(i)\n",
    "    data = BeautifulSoup(res.text,\"html.parser\")\n",
    "    a = data.find(class_ = \"lister-item mode-advanced\")\n",
    "    name = a.find(class_ = \"lister-item-content\").a.string\n",
    "    print(name)"
   ]
  },
  {
   "cell_type": "markdown",
   "metadata": {},
   "source": [
    "### Problem 3 : Title with maximum duration\n",
    "Link to use https://www.imdb.com/search/title/?release_date=2018&sort=num_votes,desc&page=1&ref_=adv_nxt  \n",
    "Out of the first 250 titles with highest number of votes in 2018,find which title has the maximum duration."
   ]
  },
  {
   "cell_type": "code",
   "execution_count": 7,
   "metadata": {
    "scrolled": true
   },
   "outputs": [],
   "source": [
    "from bs4 import BeautifulSoup\n",
    "import requests\n",
    "import time\n",
    "from random import randint"
   ]
  },
  {
   "cell_type": "code",
   "execution_count": 9,
   "metadata": {},
   "outputs": [
    {
     "name": "stdout",
     "output_type": "stream",
     "text": [
      "The Haunting of Hill House 572\n"
     ]
    }
   ],
   "source": [
    "dct = {}\n",
    "for i in range(1,202,50):\n",
    "    res = requests.get('https://www.imdb.com/search/title/?release_date=2018&sort=num_votes,desc&page=1&ref_=adv_nxt')\n",
    "    data = BeautifulSoup(res.text,\"html.parser\")\n",
    "    tags = data.find_all('div',class_='lister-item')\n",
    "    for j in tags:\n",
    "        if j.find('span',class_='runtime'):\n",
    "            head = j.find('h3',class_='lister-item-header')\n",
    "            dur = j.find('span',class_='runtime')\n",
    "            t= int(dur.text.strip().split(' ')[0])\n",
    "            dct[head.a.string] = t\n",
    "    time.sleep(randint(0,3))\n",
    "maxdur = -1\n",
    "maxnum = 0\n",
    "for k,v in dct.items():\n",
    "    if v>maxdur:\n",
    "        maxdur = v\n",
    "        maxname = k\n",
    "print(maxname,maxdur)\n",
    "            \n",
    "    "
   ]
  },
  {
   "cell_type": "markdown",
   "metadata": {},
   "source": [
    "### Problem 4 : Applications of AI\n",
    "From this website : https://en.wikipedia.org/wiki/Artificial_intelligence  \n",
    "Find and print all applications of AI (As present in Contents of the page)  \n",
    "Note : Print applications line wise"
   ]
  },
  {
   "cell_type": "code",
   "execution_count": 2,
   "metadata": {},
   "outputs": [],
   "source": [
    "from bs4 import BeautifulSoup\n",
    "import requests"
   ]
  },
  {
   "cell_type": "code",
   "execution_count": 4,
   "metadata": {},
   "outputs": [
    {
     "name": "stdout",
     "output_type": "stream",
     "text": [
      "\n"
     ]
    }
   ],
   "source": [
    "response = requests.get('https://en.wikipedia.org/wiki/Artificial_intelligence')\n",
    "data = BeautifulSoup(response.text,\"html.parser\")\n",
    "b1 = data.find_all(class_='toclevel-1 tocsection-36')\n",
    "for i in b1:\n",
    "    for j in i.ul.find_all(class_='toctext'):\n",
    "        print(j.string)\n",
    "print('')"
   ]
  },
  {
   "cell_type": "markdown",
   "metadata": {},
   "source": [
    "### Problem 5 : Image with maximum area\n",
    "From this website : https://en.wikipedia.org/wiki/Artificial_intelligence  \n",
    "Find and print the src of the <img> tag which occupies the maximum area on the page.  \n",
    "Note : Ignore images which doesn't have height or width attributes"
   ]
  },
  {
   "cell_type": "code",
   "execution_count": 49,
   "metadata": {},
   "outputs": [
    {
     "name": "stdout",
     "output_type": "stream",
     "text": [
      "//upload.wikimedia.org/wikipedia/commons/thumb/1/13/Joseph_Ayerle_portrait_of_Ornella_Muti_%28detail%29%2C_calculated_by_Artificial_Intelligence_%28AI%29_technology.jpg/220px-Joseph_Ayerle_portrait_of_Ornella_Muti_%28detail%29%2C_calculated_by_Artificial_Intelligence_%28AI%29_technology.jpg\n"
     ]
    }
   ],
   "source": [
    "from bs4 import BeautifulSoup\n",
    "import requests\n",
    "\n",
    "response = requests.get('https://en.wikipedia.org/wiki/Artificial_intelligence')\n",
    "data = BeautifulSoup(response.text,\"html.parser\")\n",
    "all_tag = data.find_all('img')\n",
    "max_area = -1\n",
    "url = ''\n",
    "for i in all_tag :\n",
    "    if i.has_attr('height') and i.has_attr('width'):\n",
    "        if int(i['height']) * int(i['width']) > max_area:\n",
    "            max_area = int(i['height']) * int(i['width'])\n",
    "            url = i['src']\n",
    "print(url)"
   ]
  },
  {
   "cell_type": "markdown",
   "metadata": {},
   "source": [
    "### Problem 6 : Quotes with tag humor\n",
    "Find all the quotes that have the tag as \"humor\" from this website http://quotes.toscrape.com/  "
   ]
  },
  {
   "cell_type": "code",
   "execution_count": 56,
   "metadata": {},
   "outputs": [
    {
     "name": "stdout",
     "output_type": "stream",
     "text": [
      "“The person, be it gentleman or lady, who has not pleasure in a good novel, must be intolerably stupid.”\n",
      "“A day without sunshine is like, you know, night.”\n",
      "“Anyone who thinks sitting in church can make you a Christian must also think that sitting in a garage can make you a car.”\n",
      "“Beauty is in the eye of the beholder and it may be necessary from time to time to give a stupid or misinformed beholder a black eye.”\n",
      "“All you need is love. But a little chocolate now and then doesn't hurt.”\n",
      "“Remember, we're madly in love, so it's all right to kiss me anytime you feel like it.”\n",
      "“Some people never go crazy. What truly horrible lives they must lead.”\n",
      "“The trouble with having an open mind, of course, is that people will insist on coming along and trying to put things in it.”\n",
      "“Think left and think right and think low and think high. Oh, the thinks you can think up if only you try!”\n",
      "“The reason I talk to myself is because I’m the only one whose answers I accept.”\n",
      "“I am free of all prejudice. I hate everyone equally. ”\n",
      "“A lady's imagination is very rapid; it jumps from admiration to love, from love to matrimony in a moment.”\n"
     ]
    }
   ],
   "source": [
    "import requests\n",
    "from bs4 import BeautifulSoup\n",
    "\n",
    "all_urls = ['http://quotes.toscrape.com/']\n",
    "base = 'http://quotes.toscrape.com/'\n",
    "\n",
    "response = requests.get(base)\n",
    "next_url=''\n",
    "q_st=[]\n",
    "t_st=[]\n",
    "\n",
    "while response.status_code == 200 :\n",
    "    \n",
    "    data = BeautifulSoup(response.text, 'html.parser')\n",
    "    next_page= data.find(class_='next')\n",
    "    q =  data.find_all(class_ = 'quote')\n",
    "    for i in range(len(q)):\n",
    "        temp = []\n",
    "        txt = q[i].find(class_='text')\n",
    "        tag = q[i].find_all('a',class_='tag')\n",
    "        #print(txt.text.strip())\n",
    "        for j in range(len(tag)):\n",
    "            #print(tag[j].text.strip())\n",
    "            temp.append(tag[j].text.strip())\n",
    "\n",
    "        if 'humor' in temp:\n",
    "            q_st.append(txt)\n",
    "            t_st.append(temp)\n",
    "    if data.find(class_ = 'next') is None : \n",
    "        break\n",
    "    \n",
    "    next_url=base+next_page.a['href']\n",
    "    all_urls.append(next_url)  \n",
    "    response = requests.get(next_url)\n",
    "#print(len(all_urls))\n",
    "#for j in all_urls :\n",
    "    #response = requests.get(j)\n",
    "    #data = BeautifulSoup(response.text, 'html.parser')\n",
    "\n",
    "    #for i in data.find_all(class_ = 'quote'):\n",
    "        #s = i.find('a',class_ = 'tag')\n",
    "        #if s:\n",
    "            #if s.string=='humor':\n",
    "               #st= i.find(class_ = 'text').string\n",
    "                #l=len(st)\n",
    "                #print(st)\n",
    "for i in range(len(q_st)):\n",
    "    print(q_st[i].text.strip())"
   ]
  },
  {
   "cell_type": "code",
   "execution_count": null,
   "metadata": {},
   "outputs": [],
   "source": []
  },
  {
   "cell_type": "markdown",
   "metadata": {},
   "source": [
    "### Problem 7 : Print all authors\n",
    "Find and print the names of all the different authors from all pages of this http://quotes.toscrape.com/ website    \n",
    "Note : Print the names of all authors line wise sorted in dictionary order  "
   ]
  },
  {
   "cell_type": "code",
   "execution_count": 45,
   "metadata": {},
   "outputs": [
    {
     "name": "stdout",
     "output_type": "stream",
     "text": [
      "Albert Einstein\n",
      "Alexandre Dumas fils\n",
      "Alfred Tennyson\n",
      "Allen Saunders\n",
      "André Gide\n",
      "Ayn Rand\n",
      "Bob Marley\n",
      "C.S. Lewis\n",
      "Charles Bukowski\n",
      "Charles M. Schulz\n",
      "Douglas Adams\n",
      "Dr. Seuss\n",
      "E.E. Cummings\n",
      "Eleanor Roosevelt\n",
      "Elie Wiesel\n",
      "Ernest Hemingway\n",
      "Friedrich Nietzsche\n",
      "Garrison Keillor\n",
      "George Bernard Shaw\n",
      "George Carlin\n",
      "George Eliot\n",
      "George R.R. Martin\n",
      "Harper Lee\n",
      "Haruki Murakami\n",
      "Helen Keller\n",
      "J.D. Salinger\n",
      "J.K. Rowling\n",
      "J.M. Barrie\n",
      "J.R.R. Tolkien\n",
      "James Baldwin\n",
      "Jane Austen\n",
      "Jim Henson\n",
      "Jimi Hendrix\n",
      "John Lennon\n",
      "Jorge Luis Borges\n",
      "Khaled Hosseini\n",
      "Madeleine L'Engle\n",
      "Marilyn Monroe\n",
      "Mark Twain\n",
      "Martin Luther King Jr.\n",
      "Mother Teresa\n",
      "Pablo Neruda\n",
      "Ralph Waldo Emerson\n",
      "Stephenie Meyer\n",
      "Steve Martin\n",
      "Suzanne Collins\n",
      "Terry Pratchett\n",
      "Thomas A. Edison\n",
      "W.C. Fields\n",
      "William Nicholson\n"
     ]
    }
   ],
   "source": [
    "import requests\n",
    "from bs4 import BeautifulSoup\n",
    "\n",
    "all_urls = ['http://quotes.toscrape.com/page/1/']\n",
    "base = 'http://quotes.toscrape.com'\n",
    "\n",
    "response = requests.get(all_urls[0])\n",
    "\n",
    "while response.status_code == 200 :\n",
    "    data = BeautifulSoup(response.text, 'html.parser')\n",
    "    if data.find(class_ = 'next') is None : \n",
    "        break\n",
    "        \n",
    "    url = data.find(class_ = 'next').a['href']\n",
    "    all_urls.append(base+url)  \n",
    "    response = requests.get(all_urls[-1])\n",
    "    \n",
    "auth_name = []\n",
    "for i in all_urls :\n",
    "    response = requests.get(i)\n",
    "    data = BeautifulSoup(response.text, 'html.parser')\n",
    "\n",
    "    for j in data.find_all(class_ = 'quote'):\n",
    "        name = j.find(class_ = 'author').string\n",
    "        if name not in auth_name:\n",
    "            auth_name.append(name)\n",
    "            \n",
    "for name in sorted(auth_name):\n",
    "    print(name)\n"
   ]
  },
  {
   "cell_type": "markdown",
   "metadata": {},
   "source": [
    "### Problem 8 : Birth Date of authors\n",
    "Find the birth date of authors whose name start with 'J' from this http://quotes.toscrape.com/ website  \n",
    "Note : Print a dictionary containing the name as key and the birth date as value.The Names of authors should be alphabetically sorted."
   ]
  },
  {
   "cell_type": "code",
   "execution_count": 55,
   "metadata": {},
   "outputs": [
    {
     "name": "stdout",
     "output_type": "stream",
     "text": [
      "{'J.D. Salinger': 'January 01, 1919', 'J.K. Rowling': 'July 31, 1965', 'J.M. Barrie': 'May 09, 1860', 'J.R.R. Tolkien': 'January 03, 1892', 'James Baldwin': 'August 02, 1924', 'Jane Austen': 'December 16, 1775', 'Jim Henson': 'September 24, 1936', 'Jimi Hendrix': 'November 27, 1942', 'John Lennon': 'October 09, 1940', 'Jorge Luis Borges': 'August 24, 1899'}\n"
     ]
    }
   ],
   "source": [
    "import requests\n",
    "from bs4 import BeautifulSoup\n",
    "\n",
    "authors = {}\n",
    "for i in range(1,11):\n",
    "    response = requests.get('http://quotes.toscrape.com/page/'+ str(i) + '/')\n",
    "    data = BeautifulSoup(response.text, 'html.parser')\n",
    "    for aut in data.select('.author') :\n",
    "        if aut.text[0] == 'J':\n",
    "            authors[aut.text] = aut.next_sibling.next_sibling['href']\n",
    "bdate ={}\n",
    "for author in sorted(authors) :\n",
    "    page = requests.get('http://quotes.toscrape.com'+ authors[author])\n",
    "    data = BeautifulSoup(page.text, 'html.parser')\n",
    "    for i in data.select('.author-born-date'):\n",
    "        bdate[author] = i.text\n",
    "print(bdate)"
   ]
  },
  {
   "cell_type": "markdown",
   "metadata": {},
   "source": [
    "### Problem 9 : Quotes by Albert Einstein\n",
    "Find all the quotes by Albert Einstein(in the order they appear on the page) from this website http://quotes.toscrape.com/  \n",
    "Note : Fetch data from all the pages.  "
   ]
  },
  {
   "cell_type": "code",
   "execution_count": 40,
   "metadata": {},
   "outputs": [
    {
     "name": "stdout",
     "output_type": "stream",
     "text": [
      "“The world as we have created it is a process of our thinking. It cannot be changed without changing our thinking.”\n",
      "“There are only two ways to live your life. One is as though nothing is a miracle. The other is as though everything is a miracle.”\n",
      "“Try not to become a man of success. Rather become a man of value.”\n",
      "“If you can't explain it to a six year old, you don't understand it yourself.”\n",
      "“If you want your children to be intelligent, read them fairy tales. If you want them to be more intelligent, read them more fairy tales.”\n",
      "“Logic will get you from A to Z; imagination will get you everywhere.”\n",
      "“Any fool can know. The point is to understand.”\n",
      "“Life is like riding a bicycle. To keep your balance, you must keep moving.”\n",
      "“If I were not a physicist, I would probably be a musician. I often think in music. I live my daydreams in music. I see my life in terms of music.”\n",
      "“Anyone who has never made a mistake has never tried anything new.”\n"
     ]
    }
   ],
   "source": [
    "import requests\n",
    "from bs4 import BeautifulSoup\n",
    "\n",
    "all_urls = ['http://quotes.toscrape.com/page/1/']\n",
    "base = 'http://quotes.toscrape.com'\n",
    "\n",
    "response = requests.get(all_urls[0])\n",
    "\n",
    "while response.status_code == 200 :\n",
    "    data = BeautifulSoup(response.text, 'html.parser')\n",
    "    \n",
    "    if data.find(class_ = 'next') is None : \n",
    "        break\n",
    "        \n",
    "    url = data.find(class_ = 'next').a['href']\n",
    "    all_urls.append(base+url)  \n",
    "    response = requests.get(all_urls[-1])\n",
    "    \n",
    "for i in all_urls :\n",
    "    response = requests.get(i)\n",
    "    data = BeautifulSoup(response.text, 'html.parser')\n",
    "\n",
    "    for j in data.find_all(class_ = 'quote'):\n",
    "        s = j.find(class_ = 'author').string\n",
    "        if s == 'Albert Einstein' :\n",
    "            s= j.find(class_ = 'text').string\n",
    "            print(s)"
   ]
  },
  {
   "cell_type": "code",
   "execution_count": null,
   "metadata": {},
   "outputs": [],
   "source": []
  }
 ],
 "metadata": {
  "kernelspec": {
   "display_name": "Python 3",
   "language": "python",
   "name": "python3"
  },
  "language_info": {
   "codemirror_mode": {
    "name": "ipython",
    "version": 3
   },
   "file_extension": ".py",
   "mimetype": "text/x-python",
   "name": "python",
   "nbconvert_exporter": "python",
   "pygments_lexer": "ipython3",
   "version": "3.7.1"
  }
 },
 "nbformat": 4,
 "nbformat_minor": 2
}
