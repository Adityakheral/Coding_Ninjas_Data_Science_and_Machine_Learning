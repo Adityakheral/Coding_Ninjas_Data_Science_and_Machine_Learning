{
 "cells": [
  {
   "cell_type": "markdown",
   "metadata": {},
   "source": [
    "## Practice Problem :"
   ]
  },
  {
   "cell_type": "markdown",
   "metadata": {},
   "source": [
    "### Problem 1 : Click on Advanced Algorithms\n",
    "Open this website : https://codezen.codingninjas.com/dashboard     \n",
    "Click on “Advanced algorithms”"
   ]
  },
  {
   "cell_type": "code",
   "execution_count": 24,
   "metadata": {},
   "outputs": [],
   "source": [
    "from selenium import webdriver\n",
    "import time\n",
    "driver = webdriver.Chrome(executable_path = 'C:/Users/admin/Downloads/Chromedriver/chromedriver.exe')\n",
    "driver.get('https://codezen.codingninjas.com/dashboard')"
   ]
  },
  {
   "cell_type": "code",
   "execution_count": 25,
   "metadata": {},
   "outputs": [],
   "source": [
    "xp = '//*[@id=\"codezen-content\"]/codezen-dashboard/div/div[2]/div/codezen-dashboard-practice/main/codezen-dashboard-practice-item[3]/a/div/div[2]'\n",
    "driver.find_element_by_xpath(xp).click()\n",
    "#driver.close()"
   ]
  },
  {
   "cell_type": "markdown",
   "metadata": {},
   "source": [
    "### Problem 2 : Title of Google\n",
    "Open Google https://www.google.com/ and Perform the following Steps :  \n",
    "1.Click on a link that has string “mage” present in it.  \n",
    "2.Find the title of the new page.  \n",
    "3.Go back to the previous page."
   ]
  },
  {
   "cell_type": "code",
   "execution_count": 26,
   "metadata": {},
   "outputs": [
    {
     "name": "stdout",
     "output_type": "stream",
     "text": [
      "Google Images\n"
     ]
    }
   ],
   "source": [
    "from selenium import webdriver\n",
    "driver = webdriver.Chrome(executable_path = 'C:/Users/admin/Downloads/Chromedriver/chromedriver.exe')\n",
    "driver.get('https://www.google.com/')\n",
    "button = driver.find_element_by_partial_link_text('mage')\n",
    "button.click()\n",
    "print(driver.title)\n",
    "driver.back()\n",
    "driver.close()"
   ]
  },
  {
   "cell_type": "markdown",
   "metadata": {},
   "source": [
    "### Problem 3 : Find address\n",
    "From this Link https://codingninjas.com/courses  \n",
    "Find the element with 'address' tag on the page"
   ]
  },
  {
   "cell_type": "code",
   "execution_count": 33,
   "metadata": {},
   "outputs": [],
   "source": [
    "from selenium import webdriver\n",
    "driver = webdriver.Chrome(executable_path = 'C:/Users/admin/Downloads/Chromedriver/chromedriver.exe')\n",
    "driver.get('https://codingninjas.com/courses')\n",
    "print(driver.find_element_by_tag_name('address').text)\n",
    "driver.close()"
   ]
  },
  {
   "cell_type": "markdown",
   "metadata": {},
   "source": [
    "#### Problem 4 :Select Female\n",
    "Open Facebook Sign Up https://www.facebook.com/r.php and Perform the following Steps :  \n",
    "1.Check if Radio button with female is selected or not.  \n",
    "2.Select it.  \n",
    "3.Check again if it now selected or not.  \n",
    "NOTE: YOU NEED TO LOGOUT FROM YOUR FACEBOOK ACCOUNT TO ACCESS THE SIGN UP PAGE.  "
   ]
  },
  {
   "cell_type": "code",
   "execution_count": 2,
   "metadata": {},
   "outputs": [
    {
     "name": "stdout",
     "output_type": "stream",
     "text": [
      "False\n",
      "True\n"
     ]
    }
   ],
   "source": [
    "from selenium import webdriver\n",
    "import time\n",
    "driver = webdriver.Chrome(executable_path = 'C:/Users/admin/Downloads/Chromedriver/chromedriver.exe')\n",
    "driver.get('https://www.facebook.com/r.php')\n",
    "print(driver.find_element_by_name('sex').is_selected())\n",
    "driver.find_element_by_name('sex').click()\n",
    "print(driver.find_element_by_name('sex').is_selected())\n",
    "time.sleep(5)\n",
    "driver.close()"
   ]
  },
  {
   "cell_type": "markdown",
   "metadata": {},
   "source": [
    "### Problem 5 : Jobs from first 5 Job titles\n",
    "Use this link  http://kanview.ks.gov/PayRates/PayRates_Agency.aspx  \n",
    "Click on \"Adjutant General\" and collect all jobs which are posted under first 5 job titles. Save all the jobs in one dataframe."
   ]
  },
  {
   "cell_type": "code",
   "execution_count": 4,
   "metadata": {},
   "outputs": [],
   "source": [
    "from selenium import webdriver\n",
    "from bs4 import BeautifulSoup\n",
    "import pandas as pd\n",
    "import time\n",
    "\n",
    "driver = webdriver.Chrome(executable_path = 'C:/Users/admin/Downloads/Chromedriver/chromedriver.exe')\n",
    "driver.get('http://kanview.ks.gov/PayRates/PayRates_Agency.aspx')\n",
    "\n",
    "dataFrameList = []\n",
    "\n",
    "for i in range(5) : \n",
    "    link = driver.find_element_by_id('MainContent_uxLevel2_JobTitles_uxJobTitleBtn_' + str(i))\n",
    "    link.click()\n",
    "    \n",
    "    data = BeautifulSoup(driver.page_source, 'lxml')\n",
    "    emp_table = data.table\n",
    "    df = pd.read_html(str(emp_table), header = 0)\n",
    "    dataFrameList.append(df[0])\n",
    "    driver.back()\n",
    "df = pd.concat(dataFrameList, ignore_index = True)\n",
    "print(df)\n"
   ]
  },
  {
   "cell_type": "markdown",
   "metadata": {},
   "source": [
    "### Problem 6 : Find jobs from Multiple Agencies\n",
    "Use this link http://kanview.ks.gov/PayRates/PayRates_Agency.aspx  \n",
    "Scrape and collect all the jobs which are posted by first 4 agencies i.e. -  \n",
    "1. Agency  \n",
    "2. Abstracters Board of Examiners  \n",
    "3. Adjutant General  \n",
    "4. Attorney General  \n",
    "\n",
    "Save the collected jobs in a dataframe and print.  "
   ]
  },
  {
   "cell_type": "code",
   "execution_count": 5,
   "metadata": {},
   "outputs": [],
   "source": [
    "from selenium import webdriver\n",
    "from bs4 import BeautifulSoup\n",
    "import pandas as pd\n",
    "import time\n",
    "from selenium.common.exceptions import NoSuchElementException\n",
    "\n",
    "driver = webdriver.Chrome(executable_path = 'C:/Users/admin/Downloads/Chromedriver/chromedriver.exe')\n",
    "driver.get('http://kanview.ks.gov/PayRates/PayRates_Agency.aspx')\n",
    "\n",
    "agencies =['Agency','Abstracters Board of Examiners','Adjutant General','Attorney General']\n",
    "\n",
    "dataFrameList = []\n",
    "for j in agencies:\n",
    "    agn = driver.find_element_by_link_text(j)\n",
    "    agn.click()\n",
    "    \n",
    "    i = 0\n",
    "    while True : \n",
    "        try : \n",
    "            link = driver.find_element_by_id('MainContent_uxLevel2_JobTitles_uxJobTitleBtn_' + str(i))\n",
    "            link.click()\n",
    "\n",
    "            data = BeautifulSoup(driver.page_source, 'lxml')\n",
    "            emp_table = data.table\n",
    "            #print(type(emp_table))\n",
    "            df = pd.read_html(str(emp_table), header = 0)\n",
    "            dataFrameList.append(df[0])\n",
    "            driver.back()\n",
    "            i += 1\n",
    "        except NoSuchElementException :\n",
    "            break\n",
    "            \n",
    "    driver.back()\n",
    "    \n",
    "df = pd.concat(dataFrameList, ignore_index = True)\n",
    "print(df)"
   ]
  },
  {
   "cell_type": "markdown",
   "metadata": {},
   "source": [
    "### Problem 7 : Topological Sorting\n",
    "Use this link.  https://www.geeksforgeeks.org/  \n",
    "Click on DS → Graph. Find and print name of all the problems which are listed under section “Topological Sorting”."
   ]
  },
  {
   "cell_type": "code",
   "execution_count": 6,
   "metadata": {},
   "outputs": [],
   "source": [
    "from selenium import webdriver\n",
    "from bs4 import BeautifulSoup\n",
    "import pandas as pd\n",
    "import time\n",
    "from selenium.common.exceptions import NoSuchElementException\n",
    "\n",
    "driver = webdriver.Chrome(executable_path = 'C:/Users/admin/Downloads/Chromedriver/chromedriver.exe')\n",
    "driver.get('https://www.geeksforgeeks.org/')\n",
    "driver.get('https://www.geeksforgeeks.org/')\n",
    "link = driver.find_element_by_xpath('//*[@id=\"sidebar-list\"]/li[2]/span')\n",
    "link.click()"
   ]
  },
  {
   "cell_type": "code",
   "execution_count": null,
   "metadata": {},
   "outputs": [],
   "source": []
  },
  {
   "cell_type": "markdown",
   "metadata": {},
   "source": [
    "### Problem 8 : Login to Gmail\n",
    "Open Gmail,Enter your login id and password and login to your account."
   ]
  },
  {
   "cell_type": "code",
   "execution_count": 10,
   "metadata": {},
   "outputs": [],
   "source": [
    "from selenium import webdriver\n",
    "import time\n",
    "\n",
    "driver = webdriver.Chrome(executable_path = 'C:/Users/admin/Downloads/Chromedriver/chromedriver.exe')\n",
    "driver.get('https://mail.google.com/')\n",
    "\n",
    "email_id = 'Enter Your Email ID'\n",
    "password = 'Password'\n",
    "\n",
    "email = driver.find_element_by_id('identifierId')\n",
    "email.send_keys(email_id)\n",
    "driver.find_element_by_id('identifierNext').click()\n",
    "time.sleep(5)\n",
    "\n",
    "pwd = driver.find_element_by_name('password')\n",
    "pwd.send_keys(password)\n",
    "driver.find_element_by_id('passwordNext').click()\n",
    "time.sleep(5)\n",
    "\n",
    "driver.close()"
   ]
  },
  {
   "cell_type": "markdown",
   "metadata": {},
   "source": [
    "## Assignments"
   ]
  },
  {
   "cell_type": "markdown",
   "metadata": {},
   "source": [
    "### Problem 1 : All Plans in Delhi NCR\n",
    "From this https://paytm.com/recharge website :  \n",
    "Find all the plans of Airtel in Delhi NCR(Find Price)"
   ]
  },
  {
   "cell_type": "code",
   "execution_count": 1,
   "metadata": {},
   "outputs": [],
   "source": [
    "from selenium import webdriver\n",
    "from selenium.webdriver.common.keys import Keys\n",
    "import time\n",
    "driver = webdriver.Chrome(executable_path = 'C:/Users/admin/Downloads/Chromedriver/chromedriver.exe')\n",
    "driver.get('https://paytm.com/recharge')\n",
    "\n",
    "operator = driver.find_element_by_xpath('//*[@id=\"app\"]/div/div[4]/div[1]/div[1]/div/div[2]/div[2]/ul/li[2]/div/div/input')\n",
    "operator.send_keys('Airtel')\n",
    "operator.send_keys(Keys.ENTER)\n",
    "circle = driver.find_element_by_xpath('//*[@id=\"app\"]/div/div[4]/div[1]/div[1]/div/div[2]/div[2]/ul/li[3]/div/div[1]/input')\n",
    "circle.send_keys('Delhi NCR')\n",
    "circle.send_keys(Keys.ENTER)\n",
    "tr = driver.find_elements_by_xpath('//*[@id=\"app\"]/div/div[4]/div[1]/div[2]/div/div/table/tbody/tr[2]/td/table/tbody//td[6]/button')\n",
    "prices = []\n",
    "for i in tr :\n",
    "    prices.append(i.text)\n",
    "driver.close()\n",
    "print(prices)\n"
   ]
  },
  {
   "cell_type": "code",
   "execution_count": null,
   "metadata": {},
   "outputs": [],
   "source": []
  }
 ],
 "metadata": {
  "kernelspec": {
   "display_name": "Python 3",
   "language": "python",
   "name": "python3"
  },
  "language_info": {
   "codemirror_mode": {
    "name": "ipython",
    "version": 3
   },
   "file_extension": ".py",
   "mimetype": "text/x-python",
   "name": "python",
   "nbconvert_exporter": "python",
   "pygments_lexer": "ipython3",
   "version": "3.7.1"
  }
 },
 "nbformat": 4,
 "nbformat_minor": 2
}
